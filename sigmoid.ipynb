from google.colab import files
data_to_load = files.upload()

import pandas as pd
import plotly.express as px

df = pd.read_csv("melted.csv")

temperature_list = df["Temperature"].tolist()
melted_list = df["Melted"].tolist()

fig = px.scatter(x= temperature_list, y = melted_list)
fig.show()

import numpy as np
temp_array = np.array(temperature_list)
melted_array = np.array(melted_list)

#slope

m,c = np.polyfit(temp_array, melted_array,1)

y =[]

for x in temp_array:
    y_value = m*x+c
    y.append(y_value)

#plotting

fig = px.scatter(x= temp_array, y = melted_array)
fig.update_layout(shapes=[
                           dict(
                               type = 'line',
                                y0 = min(y), y1=max(y),
                                x0 = min(temp_array), x1 = max(temp_array)

                           )
])

fig.show()

import matplotlib.pyplot as plt
from sklearn.linear_model import LogisticRegression

X = np.reshape(temperature_list,(len(temperature_list),1))
Y = np.reshape(melted_list, (len(melted_list), 1))

lr = LogisticRegression()
lr.fit(X,Y)

plt.figure()
plt.scatter(X.ravel(), Y, color = 'black',zorder = 20)

def model(x):
  return 1/(1+np.exp(-x))

#using the line formula
X_test = np.linspace(0,5000,10000)
melted_chances = model(X_test* lr.coef_ + lr.intercept_).ravel()

plt.plot(X_test, melted_chances, color = 'red', linewidth = 3)
plt.axhline(y = 0,color ='k', linestyle = '-')
plt.axhline(y = 1,color ='k', linestyle = '-')
plt.axhline(y = 0.5 ,color ='k', linestyle = '--')

#hit and trial

plt.axvline(x = X_test[7000], color = 'b', linestyle ='--')

plt.ylabel('Y')
plt.xlabel('X')
plt.xlim(3400,3450)
plt.show()

temp = float(input("temperature"))
melted_chances = model(temp* lr.coef_ + lr.intercept_).ravel()[0]
if(melted_chances <= 0.01):
    print("toungsten will not be melted")
elif(melted_chances>= 1):
    print("toungsten will be melted")
elif(melted_chances<= 0.5):
    print("toungsten might not get melted")
else:
    print("toungsten might get meleted")
