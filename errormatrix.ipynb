from google.colab import files
data_to_load = files.upload()

import pandas as pd
import plotly.express as px
df = pd.read_csv("heart.csv")

print(df.head())

from sklearn.model_selection import train_test_split
age = df["age"]
heart_attack = df["target"]
age_train,age_test,heart_attack_train,heart_attack_test = train_test_split(age,heart_attack,test_size = 0.25,random_state = 0)

from sklearn.linear_model import LogisticRegression 
import numpy as np
X = np.reshape(age_train.ravel(),(len(age_train),1))
Y = np.reshape(heart_attack_train.ravel(),(len(heart_attack_train),1))

classifier = LogisticRegression(random_state = 0)

classifier.fit(X,Y)

X_test = np.reshape(age_test.ravel(),(len(age_test),1)) 
Y_test = np.reshape(heart_attack_test.ravel(),(len(heart_attack_test),1)) 

heart_attack_prediction = classifier.predict(X_test)

prediction_values = []

for i in heart_attack_prediction:
  if(i==0):
        prediction_values.append("no")
  else: 
        prediction_values.append("yes")


actual_values = []

for i in Y_test.ravel():
  if(i==0):
        actual_values.append("no")
  else: 
        actual_values.append("yes")



labels = ["yes","no"]
from sklearn.metrics import confusion_matrix
import seaborn as sns
import matplotlib.pyplot as plt

cm = confusion_matrix(actual_values,prediction_values,labels)
ax = plt.subplot()
sns.heatmap(cm,annot = True,ax = ax)
ax.set_xlabel('Predicted')
ax.set_ylabel('Actual')
ax.set_title('Confusion Matrix')
ax.xaxis.set_ticklabels(labels); ax.yaxis.set_ticklabels(labels)
