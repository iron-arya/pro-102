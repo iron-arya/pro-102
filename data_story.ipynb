import pandas as pd
import statistics
import csv
import random
import plotly.express as px
with open('savingsdata.csv', newline='') as f:
    reader = csv.reader(f) 
    savings_data = list(reader)
savings_data.pop(0)

total_entries = len(savings_data)
totalpeople_given_remainder=0

for  data in savings_data:
      if int(data[3])==1:
         totalpeople_given_remainder+=1

import plotly.graph_objects as go
fig = go.Figure(go.Bar(x=["remainded","notremainded"],y=[totalpeople_given_remainder,(total_entries-totalpeople_given_remainder)]))   
fig.show()     
df = pd.read_csv("savingsdata.csv")
fig1 = px.scatter(df,y="quant_saved",color = "rem_any")
fig1.show()

all_savings = []
for data  in savings_data:
    all_savings.append(float(data[0]))

print(f "mean: - {statistics.mean(all_savings)}")
print(f "median: - {statistics.median(all_savings)}")
print(f "mode: - {statistics.mode(all_savings)}")

remainded_savings = []
notremainded_savings = []
 
for data in savings_data:
    if int(data[3])==1:
       remainded_savings.append(float(data[0])) 
    else: notremainded_savings.append(float(data[0]))   

import pandas as pd
import statistics
import csv
import random
import plotly.express as px
with open('savingsdata.csv', newline='') as f:
    reader = csv.reader(f) 
    savings_data = list(reader)
savings_data.pop(0)

total_entries = len(savings_data)
totalpeople_given_remainder=0

for  data in savings_data:
      if int(data[3])==1:
         totalpeople_given_remainder+=1

import plotly.graph_objects as go
fig = go.Figure(go.Bar(x=["remainded","notremainded"],y=[totalpeople_given_remainder,(total_entries-totalpeople_given_remainder)]))   
fig.show()     
df = pd.read_csv("savingsdata.csv")
fig1 = px.scatter(df,y="quant_saved",color = "rem_any")
fig1.show()

all_savings = []
for data  in savings_data:
    all_savings.append(float(data[0]))

print(f "mean: - {statistics.mean(all_savings)}")
print(f "median: - {statistics.median(all_savings)}")
print(f "mode: - {statistics.mode(all_savings)}")

remainded_savings = []
notremainded_savings = []
 
for data in savings_data:
    if int(data[3])==1:
       remainded_savings.append(float(data[0])) 
    else: notremainded_savings.append(float(data[0]))   
#mean,median and mode of savings
print("Results for people who were remainded to save")
print(f"mean of savings-{statistics.mean(remainded_savings)}")
print(f"median of savings-{statistics.median(remainded_savings)}")
print(f"mode of savings-{statistics.mode(remainded_savings)}")

#adding new line
print("Results for people who were not remainded to save")
print(f"mean of savings-{statistics.mean(not_remainded_savings)}")
print(f"median of savings-{statistics.median(not_remainded_savings)}")
print(f"mode of savings-{statistics.mode(not_remainded_savings)}")

#standard deviation
print(f"Standard deviation of all the data->{statistics.stdev(all_savings)}")
print(f"Standard deviation of all the people who were remainded->{statistics.stdev(remainded_savings)}")
print(f"Standard deviation of all the people who were not remainded->{statistics.stdev(not_remainded_savings)}")

import numpy as np

age =[]
savings = []
for data in savings_data:
    if float(data[5]) ! =0:
      age.append(float(data[5])
      savings.append(float(data[0]))

correlation = np.corrcoef(age,savings)      
print(f"Correlation between the age of the person and thier savings is -{correlation[0,1]}")






