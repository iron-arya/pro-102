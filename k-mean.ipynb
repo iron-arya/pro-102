from google.colab import files
data_to_load = files.upload()

import pandas as pd
import plotly.express as px

df = pd.read_csv("petals118.csv")
print(df.head())

fig = px.scatter(df,x = "petal_size",y = "sepal_size")
fig.show()

from sklearn.cluster import KMeans
X = df.iloc[:, [0, 1]].values
print( X)

wcss = [] 
for i in range(1, 11):
    kmeans = KMeans(n_clusters=i, init='k-means++', random_state = 42)
    kmeans.fit(X)
    wcss.append(kmeans.inertia_)
    
    import matplotlib.pyplot as plt
import seaborn as sns

plt.figure(figsize = (10,5))
sns.lineplot(range(1,11),wcss,marker= "o",color = "red")
plt.title("the_elbow_method")
plt.xlabel("number of clusters")
plt.ylabel("wcss")
plt.show()

kmeans = KMeans(n_clusters=3, init='k-means++', random_state = 42)
y_kmeans = kmeans.fit_predict(X)

plt.figure(figsize = (15,7))
sns.scatterplot(X[y_kmeans == 0,0],X[y_kmeans == 0,1],color = "blue",label   = "cluster1")
sns.scatterplot(X[y_kmeans == 1,0],X[y_kmeans == 1,1],color = "green",label  = "cluster2")
sns.scatterplot(X[y_kmeans == 2,0],X[y_kmeans == 2,1],color = "yellow",label = "cluster3")

sns.scatterplot(kmeans.cluster_centers_[:,0],kmeans.cluster_centers_[:,1],color = "red",label = "centroid",s = 100,markers=",")
plt.grid(False)
plt.title("cluster of flowers")
plt.xlabel("petals's size")
plt.ylabel("sepal size")
plt.legend()
plt.show()
